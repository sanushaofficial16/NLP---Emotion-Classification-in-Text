{
 "cells": [
  {
   "cell_type": "markdown",
   "id": "0f7f5a0c-924b-4ee3-bc2f-243f6d86225a",
   "metadata": {},
   "source": [
    "# Formative Assessment: NLP - Emotion Classification in Text"
   ]
  },
  {
   "cell_type": "code",
   "execution_count": 44,
   "id": "5731b717-a485-4df9-a483-72bf733977d7",
   "metadata": {},
   "outputs": [],
   "source": [
    "import pandas as pd\n",
    "\n",
    "# Load dataset\n",
    "df = pd.read_csv('nlp_dataset.csv')"
   ]
  },
  {
   "cell_type": "markdown",
   "id": "7bc3ca40-a61d-4aae-8602-6c9c36e7236f",
   "metadata": {},
   "source": [
    "First few rows of the dataset"
   ]
  },
  {
   "cell_type": "code",
   "execution_count": 45,
   "id": "91cdc145-0288-434d-b239-6a5925402036",
   "metadata": {},
   "outputs": [
    {
     "data": {
      "text/html": [
       "<div>\n",
       "<style scoped>\n",
       "    .dataframe tbody tr th:only-of-type {\n",
       "        vertical-align: middle;\n",
       "    }\n",
       "\n",
       "    .dataframe tbody tr th {\n",
       "        vertical-align: top;\n",
       "    }\n",
       "\n",
       "    .dataframe thead th {\n",
       "        text-align: right;\n",
       "    }\n",
       "</style>\n",
       "<table border=\"1\" class=\"dataframe\">\n",
       "  <thead>\n",
       "    <tr style=\"text-align: right;\">\n",
       "      <th></th>\n",
       "      <th>Comment</th>\n",
       "      <th>Emotion</th>\n",
       "    </tr>\n",
       "  </thead>\n",
       "  <tbody>\n",
       "    <tr>\n",
       "      <th>0</th>\n",
       "      <td>i seriously hate one subject to death but now ...</td>\n",
       "      <td>fear</td>\n",
       "    </tr>\n",
       "    <tr>\n",
       "      <th>1</th>\n",
       "      <td>im so full of life i feel appalled</td>\n",
       "      <td>anger</td>\n",
       "    </tr>\n",
       "    <tr>\n",
       "      <th>2</th>\n",
       "      <td>i sit here to write i start to dig out my feel...</td>\n",
       "      <td>fear</td>\n",
       "    </tr>\n",
       "    <tr>\n",
       "      <th>3</th>\n",
       "      <td>ive been really angry with r and i feel like a...</td>\n",
       "      <td>joy</td>\n",
       "    </tr>\n",
       "    <tr>\n",
       "      <th>4</th>\n",
       "      <td>i feel suspicious if there is no one outside l...</td>\n",
       "      <td>fear</td>\n",
       "    </tr>\n",
       "    <tr>\n",
       "      <th>5</th>\n",
       "      <td>i feel jealous becasue i wanted that kind of l...</td>\n",
       "      <td>anger</td>\n",
       "    </tr>\n",
       "    <tr>\n",
       "      <th>6</th>\n",
       "      <td>when a friend of mine keeps telling me morbid ...</td>\n",
       "      <td>anger</td>\n",
       "    </tr>\n",
       "    <tr>\n",
       "      <th>7</th>\n",
       "      <td>i finally fell asleep feeling angry useless an...</td>\n",
       "      <td>anger</td>\n",
       "    </tr>\n",
       "    <tr>\n",
       "      <th>8</th>\n",
       "      <td>i feel a bit annoyed and antsy in a good way</td>\n",
       "      <td>anger</td>\n",
       "    </tr>\n",
       "    <tr>\n",
       "      <th>9</th>\n",
       "      <td>i feel like i ve regained another vital part o...</td>\n",
       "      <td>joy</td>\n",
       "    </tr>\n",
       "  </tbody>\n",
       "</table>\n",
       "</div>"
      ],
      "text/plain": [
       "                                             Comment Emotion\n",
       "0  i seriously hate one subject to death but now ...    fear\n",
       "1                 im so full of life i feel appalled   anger\n",
       "2  i sit here to write i start to dig out my feel...    fear\n",
       "3  ive been really angry with r and i feel like a...     joy\n",
       "4  i feel suspicious if there is no one outside l...    fear\n",
       "5  i feel jealous becasue i wanted that kind of l...   anger\n",
       "6  when a friend of mine keeps telling me morbid ...   anger\n",
       "7  i finally fell asleep feeling angry useless an...   anger\n",
       "8       i feel a bit annoyed and antsy in a good way   anger\n",
       "9  i feel like i ve regained another vital part o...     joy"
      ]
     },
     "execution_count": 45,
     "metadata": {},
     "output_type": "execute_result"
    }
   ],
   "source": [
    "df.head(10)"
   ]
  },
  {
   "cell_type": "markdown",
   "id": "242917df-14fd-4bb2-ba4b-608014fe7dcf",
   "metadata": {},
   "source": [
    "Last few rows of the dataset"
   ]
  },
  {
   "cell_type": "code",
   "execution_count": 46,
   "id": "7fe2563d-1f17-43dc-9c55-ab646ba49a83",
   "metadata": {},
   "outputs": [
    {
     "data": {
      "text/html": [
       "<div>\n",
       "<style scoped>\n",
       "    .dataframe tbody tr th:only-of-type {\n",
       "        vertical-align: middle;\n",
       "    }\n",
       "\n",
       "    .dataframe tbody tr th {\n",
       "        vertical-align: top;\n",
       "    }\n",
       "\n",
       "    .dataframe thead th {\n",
       "        text-align: right;\n",
       "    }\n",
       "</style>\n",
       "<table border=\"1\" class=\"dataframe\">\n",
       "  <thead>\n",
       "    <tr style=\"text-align: right;\">\n",
       "      <th></th>\n",
       "      <th>Comment</th>\n",
       "      <th>Emotion</th>\n",
       "    </tr>\n",
       "  </thead>\n",
       "  <tbody>\n",
       "    <tr>\n",
       "      <th>5927</th>\n",
       "      <td>i have never done anything to make her cry or ...</td>\n",
       "      <td>fear</td>\n",
       "    </tr>\n",
       "    <tr>\n",
       "      <th>5928</th>\n",
       "      <td>i feel angry because i have led myself to lead...</td>\n",
       "      <td>anger</td>\n",
       "    </tr>\n",
       "    <tr>\n",
       "      <th>5929</th>\n",
       "      <td>i mean weve been friends for a long time and t...</td>\n",
       "      <td>anger</td>\n",
       "    </tr>\n",
       "    <tr>\n",
       "      <th>5930</th>\n",
       "      <td>i think we often feel this way about planting ...</td>\n",
       "      <td>fear</td>\n",
       "    </tr>\n",
       "    <tr>\n",
       "      <th>5931</th>\n",
       "      <td>i have lost touch with the things that i feel ...</td>\n",
       "      <td>joy</td>\n",
       "    </tr>\n",
       "    <tr>\n",
       "      <th>5932</th>\n",
       "      <td>i begun to feel distressed for you</td>\n",
       "      <td>fear</td>\n",
       "    </tr>\n",
       "    <tr>\n",
       "      <th>5933</th>\n",
       "      <td>i left feeling annoyed and angry thinking that...</td>\n",
       "      <td>anger</td>\n",
       "    </tr>\n",
       "    <tr>\n",
       "      <th>5934</th>\n",
       "      <td>i were to ever get married i d have everything...</td>\n",
       "      <td>joy</td>\n",
       "    </tr>\n",
       "    <tr>\n",
       "      <th>5935</th>\n",
       "      <td>i feel reluctant in applying there because i w...</td>\n",
       "      <td>fear</td>\n",
       "    </tr>\n",
       "    <tr>\n",
       "      <th>5936</th>\n",
       "      <td>i just wanted to apologize to you because i fe...</td>\n",
       "      <td>anger</td>\n",
       "    </tr>\n",
       "  </tbody>\n",
       "</table>\n",
       "</div>"
      ],
      "text/plain": [
       "                                                Comment Emotion\n",
       "5927  i have never done anything to make her cry or ...    fear\n",
       "5928  i feel angry because i have led myself to lead...   anger\n",
       "5929  i mean weve been friends for a long time and t...   anger\n",
       "5930  i think we often feel this way about planting ...    fear\n",
       "5931  i have lost touch with the things that i feel ...     joy\n",
       "5932                 i begun to feel distressed for you    fear\n",
       "5933  i left feeling annoyed and angry thinking that...   anger\n",
       "5934  i were to ever get married i d have everything...     joy\n",
       "5935  i feel reluctant in applying there because i w...    fear\n",
       "5936  i just wanted to apologize to you because i fe...   anger"
      ]
     },
     "execution_count": 46,
     "metadata": {},
     "output_type": "execute_result"
    }
   ],
   "source": [
    "df.tail(10)"
   ]
  },
  {
   "cell_type": "markdown",
   "id": "d59b7b39-aa2b-4bfa-8227-492d225f9c33",
   "metadata": {},
   "source": [
    " Basic information about the dataset"
   ]
  },
  {
   "cell_type": "code",
   "execution_count": 47,
   "id": "381b958b-cd1f-43ed-9a06-93f7765d4ff9",
   "metadata": {},
   "outputs": [
    {
     "name": "stdout",
     "output_type": "stream",
     "text": [
      "<class 'pandas.core.frame.DataFrame'>\n",
      "RangeIndex: 5937 entries, 0 to 5936\n",
      "Data columns (total 2 columns):\n",
      " #   Column   Non-Null Count  Dtype \n",
      "---  ------   --------------  ----- \n",
      " 0   Comment  5937 non-null   object\n",
      " 1   Emotion  5937 non-null   object\n",
      "dtypes: object(2)\n",
      "memory usage: 92.9+ KB\n"
     ]
    }
   ],
   "source": [
    "df.info()"
   ]
  },
  {
   "cell_type": "markdown",
   "id": "54844ef1-c218-4138-9f44-89e59f1f71de",
   "metadata": {},
   "source": [
    "Summary statistics of the dataset"
   ]
  },
  {
   "cell_type": "code",
   "execution_count": 48,
   "id": "d2cd3938-ee61-4eaf-a22f-65269e87489c",
   "metadata": {},
   "outputs": [
    {
     "data": {
      "text/html": [
       "<div>\n",
       "<style scoped>\n",
       "    .dataframe tbody tr th:only-of-type {\n",
       "        vertical-align: middle;\n",
       "    }\n",
       "\n",
       "    .dataframe tbody tr th {\n",
       "        vertical-align: top;\n",
       "    }\n",
       "\n",
       "    .dataframe thead th {\n",
       "        text-align: right;\n",
       "    }\n",
       "</style>\n",
       "<table border=\"1\" class=\"dataframe\">\n",
       "  <thead>\n",
       "    <tr style=\"text-align: right;\">\n",
       "      <th></th>\n",
       "      <th>Comment</th>\n",
       "      <th>Emotion</th>\n",
       "    </tr>\n",
       "  </thead>\n",
       "  <tbody>\n",
       "    <tr>\n",
       "      <th>count</th>\n",
       "      <td>5937</td>\n",
       "      <td>5937</td>\n",
       "    </tr>\n",
       "    <tr>\n",
       "      <th>unique</th>\n",
       "      <td>5934</td>\n",
       "      <td>3</td>\n",
       "    </tr>\n",
       "    <tr>\n",
       "      <th>top</th>\n",
       "      <td>i feel like a tortured artist when i talk to her</td>\n",
       "      <td>anger</td>\n",
       "    </tr>\n",
       "    <tr>\n",
       "      <th>freq</th>\n",
       "      <td>2</td>\n",
       "      <td>2000</td>\n",
       "    </tr>\n",
       "  </tbody>\n",
       "</table>\n",
       "</div>"
      ],
      "text/plain": [
       "                                                 Comment Emotion\n",
       "count                                               5937    5937\n",
       "unique                                              5934       3\n",
       "top     i feel like a tortured artist when i talk to her   anger\n",
       "freq                                                   2    2000"
      ]
     },
     "execution_count": 48,
     "metadata": {},
     "output_type": "execute_result"
    }
   ],
   "source": [
    "df.describe()"
   ]
  },
  {
   "cell_type": "code",
   "execution_count": 9,
   "id": "6bc62da1-4f0e-4011-8249-353d3c695c79",
   "metadata": {},
   "outputs": [
    {
     "data": {
      "text/plain": [
       "Comment    0\n",
       "Emotion    0\n",
       "dtype: int64"
      ]
     },
     "execution_count": 9,
     "metadata": {},
     "output_type": "execute_result"
    }
   ],
   "source": [
    "df.isnull().sum()"
   ]
  },
  {
   "cell_type": "code",
   "execution_count": 52,
   "id": "924a7472-dc1a-4497-9533-a3dfd606b116",
   "metadata": {},
   "outputs": [
    {
     "name": "stdout",
     "output_type": "stream",
     "text": [
      "Index(['Comment', 'Emotion'], dtype='object')\n"
     ]
    }
   ],
   "source": [
    "# Print column names\n",
    "print(df.columns)\n"
   ]
  },
  {
   "cell_type": "markdown",
   "id": "ebd58095-49a1-4612-9183-789db4b4aad2",
   "metadata": {},
   "source": [
    "Plot the distribution of emotions"
   ]
  },
  {
   "cell_type": "code",
   "execution_count": 97,
   "id": "1609e341-f28a-4a29-87f8-913d7123c193",
   "metadata": {},
   "outputs": [
    {
     "data": {
      "image/png": "[encoded data removed]",
      "text/plain": [
       "<Figure size 1000x600 with 1 Axes>"
      ]
     },
     "metadata": {},
     "output_type": "display_data"
    }
   ],
   "source": [
    "\n",
    "plt.figure(figsize=(10, 6))\n",
    "sns.countplot(x='Emotion', data=df, order=df['Emotion'].value_counts().index)\n",
    "plt.title('Distribution of Emotions')\n",
    "plt.xlabel('Emotion')\n",
    "plt.ylabel('Frequency')\n",
    "plt.show()\n"
   ]
  },
  {
   "cell_type": "markdown",
   "id": "5805cb31-82db-4ec2-9c68-2cbf9cf87f48",
   "metadata": {},
   "source": [
    " # Text Cleaning and Tokenization\n",
    "\n",
    "Text cleaning involves removing unwanted characters, lowercasing the text, and tokenizing the text into words. Tokenization is splitting the text into individual words or tokens."
   ]
  },
  {
   "cell_type": "code",
   "execution_count": 32,
   "id": "d24a606a-7292-4d51-accd-dbaeb5792f70",
   "metadata": {},
   "outputs": [
    {
     "name": "stdout",
     "output_type": "stream",
     "text": [
      "            text       cleaned_text\n",
      "0     I am happy     [i, am, happy]\n",
      "1     I feel sad     [i, feel, sad]\n",
      "2   I am excited   [i, am, excited]\n",
      "3     I am angry     [i, am, angry]\n",
      "4  I feel joyful  [i, feel, joyful]\n",
      "5     I am upset     [i, am, upset]\n"
     ]
    }
   ],
   "source": [
    "import re\n",
    "from nltk.tokenize import word_tokenize\n",
    "from nltk.corpus import stopwords\n",
    "\n",
    "# Download stopwords if not already downloade\n",
    "\n",
    "import nltk\n",
    "nltk.download('punkt', quiet=True)\n",
    "nltk.download('stopwords', quiet=True)\n",
    "\n",
    "# Define a function to clean text\n",
    "\n",
    "def clean_text(text):\n",
    "    text = text.lower()  # Convert to lowercase\n",
    "    text = re.sub(r'\\d+', '', text)  # Remove digits\n",
    "    text = re.sub(r'\\W+', ' ', text)  # Remove non-word characters\n",
    "    tokens = word_tokenize(text)  # Tokenize text\n",
    "    return tokens\n",
    "\n",
    "# Apply text cleaning\n",
    "df['cleaned_text'] = df['text'].apply(clean_text)\n",
    "# Print the DataFrame to see the cleaned text\n",
    "print(df[['text', 'cleaned_text']])\n"
   ]
  },
  {
   "cell_type": "markdown",
   "id": "300317b9-ea84-4d9f-b817-688a24c1851b",
   "metadata": {},
   "source": [
    "Removal of Stopwords\n",
    "Stopwords are common words like \"and\", \"the\", \"is\" that do not carry much meaning. Removing them helps in focusing on the important words."
   ]
  },
  {
   "cell_type": "code",
   "execution_count": 36,
   "id": "4af7a782-350b-4579-85e0-f82201aa1dee",
   "metadata": {},
   "outputs": [
    {
     "name": "stdout",
     "output_type": "stream",
     "text": [
      "0           [happy]\n",
      "1       [feel, sad]\n",
      "2         [excited]\n",
      "3           [angry]\n",
      "4    [feel, joyful]\n",
      "5           [upset]\n",
      "Name: cleaned_text, dtype: object\n"
     ]
    }
   ],
   "source": [
    "stop_words = set(stopwords.words('english'))\n",
    "\n",
    "# Define a function to remove stopwords\n",
    "def remove_stopwords(tokens):\n",
    "    return [word for word in tokens if word not in stop_words]\n",
    "\n",
    "# Apply stopword removal\n",
    "df['cleaned_text'] = df['cleaned_text'].apply(remove_stopwords)\n",
    "# Print the cleaned text\n",
    "print(df['cleaned_text'])"
   ]
  },
  {
   "cell_type": "markdown",
   "id": "dbfc6a80-27bd-4769-87c1-f43e13faa514",
   "metadata": {},
   "source": [
    "Text Cleaning: Helps in standardizing the text, reducing noise, and ensuring uniformity.\n",
    "    \n",
    "Tokenization: Splits the text into individual tokens which can then be analyzed.\n",
    "    \n",
    "Stopword Removal: Reduces the dimensionality of the text data, focusing on meaningful words, thus improving model performance by reducing noise."
   ]
  },
  {
   "cell_type": "code",
   "execution_count": 63,
   "id": "b1c068a2-b40f-4885-9893-459f40899f45",
   "metadata": {},
   "outputs": [
    {
     "name": "stdout",
     "output_type": "stream",
     "text": [
      "Index(['Comment', 'Emotion'], dtype='object')\n"
     ]
    }
   ],
   "source": [
    "print(df.columns)"
   ]
  },
  {
   "cell_type": "markdown",
   "id": "8d782ea7-96a1-41e1-900f-17de4485e6b1",
   "metadata": {},
   "source": [
    "#  Feature Extraction \n"
   ]
  },
  {
   "cell_type": "markdown",
   "id": "6f77662e-02a9-4c22-879f-58abf59a9fbe",
   "metadata": {},
   "source": [
    "CountVectorizer\n",
    "\n",
    "CountVectorizer converts a collection of text documents into a matrix of token counts. This means each unique word in the entire dataset gets a column, and each document gets a row. The value in each cell represents the number of times the word appears in the document."
   ]
  },
  {
   "cell_type": "code",
   "execution_count": 77,
   "id": "a057aa7f-4e78-49f7-8681-a4c0922aa246",
   "metadata": {},
   "outputs": [
    {
     "data": {
      "text/html": [
       "<div>\n",
       "<style scoped>\n",
       "    .dataframe tbody tr th:only-of-type {\n",
       "        vertical-align: middle;\n",
       "    }\n",
       "\n",
       "    .dataframe tbody tr th {\n",
       "        vertical-align: top;\n",
       "    }\n",
       "\n",
       "    .dataframe thead th {\n",
       "        text-align: right;\n",
       "    }\n",
       "</style>\n",
       "<table border=\"1\" class=\"dataframe\">\n",
       "  <thead>\n",
       "    <tr style=\"text-align: right;\">\n",
       "      <th></th>\n",
       "      <th>aemotion</th>\n",
       "      <th>eemotion</th>\n",
       "      <th>femotion</th>\n",
       "      <th>gemotion</th>\n",
       "      <th>jemotion</th>\n",
       "      <th>nemotion</th>\n",
       "      <th>oemotion</th>\n",
       "    </tr>\n",
       "  </thead>\n",
       "  <tbody>\n",
       "    <tr>\n",
       "      <th>0</th>\n",
       "      <td>1</td>\n",
       "      <td>1</td>\n",
       "      <td>1</td>\n",
       "      <td>0</td>\n",
       "      <td>0</td>\n",
       "      <td>0</td>\n",
       "      <td>0</td>\n",
       "    </tr>\n",
       "    <tr>\n",
       "      <th>1</th>\n",
       "      <td>1</td>\n",
       "      <td>1</td>\n",
       "      <td>0</td>\n",
       "      <td>1</td>\n",
       "      <td>0</td>\n",
       "      <td>1</td>\n",
       "      <td>0</td>\n",
       "    </tr>\n",
       "    <tr>\n",
       "      <th>2</th>\n",
       "      <td>1</td>\n",
       "      <td>1</td>\n",
       "      <td>1</td>\n",
       "      <td>0</td>\n",
       "      <td>0</td>\n",
       "      <td>0</td>\n",
       "      <td>0</td>\n",
       "    </tr>\n",
       "    <tr>\n",
       "      <th>3</th>\n",
       "      <td>0</td>\n",
       "      <td>0</td>\n",
       "      <td>0</td>\n",
       "      <td>0</td>\n",
       "      <td>1</td>\n",
       "      <td>0</td>\n",
       "      <td>1</td>\n",
       "    </tr>\n",
       "    <tr>\n",
       "      <th>4</th>\n",
       "      <td>1</td>\n",
       "      <td>1</td>\n",
       "      <td>1</td>\n",
       "      <td>0</td>\n",
       "      <td>0</td>\n",
       "      <td>0</td>\n",
       "      <td>0</td>\n",
       "    </tr>\n",
       "    <tr>\n",
       "      <th>5</th>\n",
       "      <td>1</td>\n",
       "      <td>1</td>\n",
       "      <td>0</td>\n",
       "      <td>1</td>\n",
       "      <td>0</td>\n",
       "      <td>1</td>\n",
       "      <td>0</td>\n",
       "    </tr>\n",
       "    <tr>\n",
       "      <th>6</th>\n",
       "      <td>1</td>\n",
       "      <td>1</td>\n",
       "      <td>0</td>\n",
       "      <td>1</td>\n",
       "      <td>0</td>\n",
       "      <td>1</td>\n",
       "      <td>0</td>\n",
       "    </tr>\n",
       "    <tr>\n",
       "      <th>7</th>\n",
       "      <td>1</td>\n",
       "      <td>1</td>\n",
       "      <td>0</td>\n",
       "      <td>1</td>\n",
       "      <td>0</td>\n",
       "      <td>1</td>\n",
       "      <td>0</td>\n",
       "    </tr>\n",
       "    <tr>\n",
       "      <th>8</th>\n",
       "      <td>1</td>\n",
       "      <td>1</td>\n",
       "      <td>0</td>\n",
       "      <td>1</td>\n",
       "      <td>0</td>\n",
       "      <td>1</td>\n",
       "      <td>0</td>\n",
       "    </tr>\n",
       "    <tr>\n",
       "      <th>9</th>\n",
       "      <td>0</td>\n",
       "      <td>0</td>\n",
       "      <td>0</td>\n",
       "      <td>0</td>\n",
       "      <td>1</td>\n",
       "      <td>0</td>\n",
       "      <td>1</td>\n",
       "    </tr>\n",
       "  </tbody>\n",
       "</table>\n",
       "</div>"
      ],
      "text/plain": [
       "   aemotion  eemotion  femotion  gemotion  jemotion  nemotion  oemotion\n",
       "0         1         1         1         0         0         0         0\n",
       "1         1         1         0         1         0         1         0\n",
       "2         1         1         1         0         0         0         0\n",
       "3         0         0         0         0         1         0         1\n",
       "4         1         1         1         0         0         0         0\n",
       "5         1         1         0         1         0         1         0\n",
       "6         1         1         0         1         0         1         0\n",
       "7         1         1         0         1         0         1         0\n",
       "8         1         1         0         1         0         1         0\n",
       "9         0         0         0         0         1         0         1"
      ]
     },
     "execution_count": 77,
     "metadata": {},
     "output_type": "execute_result"
    }
   ],
   "source": [
    "from sklearn.feature_extraction.text import CountVectorizer\n",
    "\n",
    "# Join the tokens back into strings for vectorization\n",
    "df['Emotion_str'] = df['Emotion'].apply(lambda x: 'Emotion '.join(x))\n",
    "\n",
    "# Initialize the CountVectorizer\n",
    "count_vectorizer = CountVectorizer()\n",
    "\n",
    "# Fit and transform the data\n",
    "count_matrix = count_vectorizer.fit_transform(df['Emotion_str'])\n",
    "\n",
    "# Convert the count matrix to a DataFrame for better readability\n",
    "count_df = pd.DataFrame(count_matrix.toarray(), columns=count_vectorizer.get_feature_names_out())\n",
    "\n",
    "# Display the first few rows of the count DataFrame\n",
    "count_df.head(10)\n"
   ]
  },
  {
   "cell_type": "markdown",
   "id": "1386d16e-f797-4b55-aa6c-d15945c30e6d",
   "metadata": {},
   "source": [
    "#  Model Development "
   ]
  },
  {
   "cell_type": "code",
   "execution_count": 101,
   "id": "f652fc1e-5dd0-4e1e-bf8e-8f666f9345f7",
   "metadata": {},
   "outputs": [],
   "source": [
    "import pandas as pd\n",
    "from sklearn.model_selection import train_test_split\n",
    "from sklearn.feature_extraction.text import CountVectorizer\n",
    "\n",
    "\n",
    "# Split the data\n",
    "X_train, X_test, y_train, y_test = train_test_split(df['Comment'], df['Emotion'], test_size=0.2, random_state=42)\n",
    "\n",
    "# Initialize the CountVectorizer\n",
    "vectorizer = CountVectorizer()\n",
    "\n",
    "# Fit and transform the training data\n",
    "X_train_vectorized = vectorizer.fit_transform(X_train)\n",
    "\n",
    "# Transform the testing data\n",
    "X_test_vectorized = vectorizer.transform(X_test)\n"
   ]
  },
  {
   "cell_type": "markdown",
   "id": "9f58f711-3680-4338-876d-a7d2c20274ff",
   "metadata": {},
   "source": [
    " # Scale the Data"
   ]
  },
  {
   "cell_type": "code",
   "execution_count": 112,
   "id": "7bfe4214-0d6f-4aa9-8adb-464fb6a1540f",
   "metadata": {},
   "outputs": [],
   "source": [
    "# Initialize the StandardScaler\n",
    "scaler = StandardScaler(with_mean=False)\n",
    "\n",
    "# Fit and transform the training data\n",
    "X_train_scaled = scaler.fit_transform(X_train_vectorized)\n",
    "\n",
    "# Transform the testing data\n",
    "X_test_scaled = scaler.transform(X_test_vectorized)\n"
   ]
  },
  {
   "cell_type": "markdown",
   "id": "3a988642-aac5-4647-9267-b76f094be32d",
   "metadata": {},
   "source": [
    " # Train Naive Bayes Model"
   ]
  },
  {
   "cell_type": "code",
   "execution_count": 113,
   "id": "a80e3af0-ad3d-4ee8-919d-2f52a9be2716",
   "metadata": {},
   "outputs": [
    {
     "name": "stdout",
     "output_type": "stream",
     "text": [
      "Naive Bayes Classification Report:\n",
      "               precision    recall  f1-score   support\n",
      "\n",
      "       anger       0.87      0.93      0.90       392\n",
      "        fear       0.89      0.92      0.91       416\n",
      "         joy       0.93      0.83      0.88       380\n",
      "\n",
      "    accuracy                           0.90      1188\n",
      "   macro avg       0.90      0.89      0.89      1188\n",
      "weighted avg       0.90      0.90      0.90      1188\n",
      "\n",
      "Naive Bayes Accuracy: 0.8956228956228957\n"
     ]
    }
   ],
   "source": [
    "from sklearn.naive_bayes import MultinomialNB\n",
    "from sklearn.metrics import classification_report, accuracy_score\n",
    "\n",
    "# Initialize and train the Naive Bayes model\n",
    "nb_clf = MultinomialNB()\n",
    "nb_clf.fit(X_train_vectorized, y_train)\n",
    "\n",
    "# Predict on the test data\n",
    "y_pred_nb = nb_clf.predict(X_test_vectorized)\n",
    "\n",
    "# Evaluate the model\n",
    "print(\"Naive Bayes Classification Report:\\n\", classification_report(y_test, y_pred_nb))\n",
    "print(\"Naive Bayes Accuracy:\", accuracy_score(y_test, y_pred_nb))\n",
    "\n",
    "\n"
   ]
  },
  {
   "cell_type": "markdown",
   "id": "b95a3cfb-8df4-4615-998f-b02d647cdb81",
   "metadata": {},
   "source": [
    "# Train Support Vector Machine (SVM) Model"
   ]
  },
  {
   "cell_type": "code",
   "execution_count": 114,
   "id": "0e1955bf-2659-4337-8d84-1a5e732e5e6b",
   "metadata": {},
   "outputs": [
    {
     "name": "stdout",
     "output_type": "stream",
     "text": [
      "SVM Classification Report:\n",
      "               precision    recall  f1-score   support\n",
      "\n",
      "       anger       0.93      0.94      0.94       392\n",
      "        fear       0.97      0.90      0.93       416\n",
      "         joy       0.92      0.98      0.95       380\n",
      "\n",
      "    accuracy                           0.94      1188\n",
      "   macro avg       0.94      0.94      0.94      1188\n",
      "weighted avg       0.94      0.94      0.94      1188\n",
      "\n",
      "SVM Accuracy: 0.9393939393939394\n"
     ]
    }
   ],
   "source": [
    "from sklearn.svm import SVC\n",
    "\n",
    "# Initialize and train the SVM model\n",
    "svm_clf = SVC()\n",
    "svm_clf.fit(X_train_vectorized, y_train)\n",
    "\n",
    "# Predict on the test data\n",
    "y_pred_svm = svm_clf.predict(X_test_vectorized)\n",
    "\n",
    "# Evaluate the model\n",
    "print(\"SVM Classification Report:\\n\", classification_report(y_test, y_pred_svm))\n",
    "print(\"SVM Accuracy:\", accuracy_score(y_test, y_pred_svm))\n"
   ]
  },
  {
   "cell_type": "markdown",
   "id": "472442e6-0008-4ab8-bc0f-0e1a5afba05e",
   "metadata": {},
   "source": [
    " # Model Comparison"
   ]
  },
  {
   "cell_type": "code",
   "execution_count": 115,
   "id": "899fc235-5c17-4bdb-a65b-658cbed28a4f",
   "metadata": {},
   "outputs": [
    {
     "name": "stdout",
     "output_type": "stream",
     "text": [
      "Naive Bayes - Accuracy: 0.90, Precision: 0.90, Recall: 0.90, F1-score: 0.90\n",
      "SVM - Accuracy: 0.94, Precision: 0.94, Recall: 0.94, F1-score: 0.94\n"
     ]
    }
   ],
   "source": [
    "from sklearn.metrics import precision_score, recall_score, f1_score\n",
    "\n",
    "# Naive Bayes metrics\n",
    "nb_accuracy = accuracy_score(y_test, y_pred_nb)\n",
    "nb_precision = precision_score(y_test, y_pred_nb, average='weighted')\n",
    "nb_recall = recall_score(y_test, y_pred_nb, average='weighted')\n",
    "nb_f1 = f1_score(y_test, y_pred_nb, average='weighted')\n",
    "\n",
    "# SVM metrics\n",
    "svm_accuracy = accuracy_score(y_test, y_pred_svm)\n",
    "svm_precision = precision_score(y_test, y_pred_svm, average='weighted')\n",
    "svm_recall = recall_score(y_test, y_pred_svm, average='weighted')\n",
    "svm_f1 = f1_score(y_test, y_pred_svm, average='weighted')\n",
    "\n",
    "# Display the comparison\n",
    "print(f\"Naive Bayes - Accuracy: {nb_accuracy:.2f}, Precision: {nb_precision:.2f}, Recall: {nb_recall:.2f}, F1-score: {nb_f1:.2f}\")\n",
    "print(f\"SVM - Accuracy: {svm_accuracy:.2f}, Precision: {svm_precision:.2f}, Recall: {svm_recall:.2f}, F1-score: {svm_f1:.2f}\")\n"
   ]
  },
  {
   "cell_type": "markdown",
   "id": "4b1effa4-85cf-464c-948d-edf0f96b2981",
   "metadata": {},
   "source": [
    "The Support Vector Machine (SVM) model is the best model for emotion classification in this dataset based on its higher accuracy, precision, recall, and F1-score compared to the Naive Bayes model. SVM provides a better balance of performance metrics and is more suitable for this classification task."
   ]
  },
  {
   "cell_type": "code",
   "execution_count": null,
   "id": "0d06f31a-349b-4718-a778-5472fcbddb4c",
   "metadata": {},
   "outputs": [],
   "source": []
  }
 ],
 "metadata": {
  "kernelspec": {
   "display_name": "Python 3 (ipykernel)",
   "language": "python",
   "name": "python3"
  },
  "language_info": {
   "codemirror_mode": {
    "name": "ipython",
    "version": 3
   },
   "file_extension": ".py",
   "mimetype": "text/x-python",
   "name": "python",
   "nbconvert_exporter": "python",
   "pygments_lexer": "ipython3",
   "version": "3.12.1"
  },
  "widgets": {
   "application/vnd.jupyter.widget-state+json": {
    "state": {},
    "version_major": 2,
    "version_minor": 0
   }
  }
 },
 "nbformat": 4,
 "nbformat_minor": 5
}
